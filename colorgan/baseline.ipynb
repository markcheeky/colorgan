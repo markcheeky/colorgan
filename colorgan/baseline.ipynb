{
 "cells": [
  {
   "cell_type": "code",
   "execution_count": null,
   "metadata": {},
   "outputs": [],
   "source": [
    "import tensorflow as tf\n",
    "\n",
    "\n",
    "gpus = tf.config.list_physical_devices(\"GPU\")\n",
    "tf.config.set_visible_devices([gpus[1]], \"GPU\")\n",
    "tf.config.get_visible_devices(\"GPU\")"
   ]
  },
  {
   "cell_type": "code",
   "execution_count": null,
   "metadata": {},
   "outputs": [],
   "source": [
    "gpus = tf.config.get_visible_devices(\"GPU\")\n",
    "\n",
    "print(f'gpus: {gpus}')\n",
    "for gpu in gpus:\n",
    "    tf.config.experimental.set_memory_growth(gpu, True)\n",
    "print('Set dynamic GPU memory allocation.')"
   ]
  },
  {
   "cell_type": "code",
   "execution_count": null,
   "metadata": {},
   "outputs": [],
   "source": [
    "import os\n",
    "from utils import PROJ_ROOT\n",
    "os.environ[\"WANDB_NOTEBOOK_NAME\"] = \"baseline.ipynb\""
   ]
  },
  {
   "cell_type": "code",
   "execution_count": null,
   "metadata": {},
   "outputs": [],
   "source": [
    "import wandb\n",
    "from wandb.keras import WandbCallback\n",
    "\n",
    "wandb.init(project=\"colorgan\", tags=[\"baseline\"])"
   ]
  },
  {
   "cell_type": "code",
   "execution_count": null,
   "metadata": {},
   "outputs": [],
   "source": [
    "import numpy as np\n",
    "import pandas as pd\n",
    "\n",
    "from models import get_unet_generator\n",
    "from dataset import folder_dataset, postprocess\n",
    "from utils import LogPredictionsCallback\n"
   ]
  },
  {
   "cell_type": "code",
   "execution_count": null,
   "metadata": {},
   "outputs": [],
   "source": [
    "BATCH_SIZE = 128\n",
    "PREFETCH = tf.data.AUTOTUNE\n",
    "\n",
    "ds_train = folder_dataset(\n",
    "    f\"{PROJ_ROOT}/imagenet/ILSVRC/Data/CLS-LOC/train\",\n",
    "    augment=True,\n",
    "    img_size=(512, 512),\n",
    "    batch_size=BATCH_SIZE,\n",
    "    prefetch=PREFETCH,\n",
    ")\n",
    "\n",
    "\n",
    "ds_valid = (\n",
    "    folder_dataset(\n",
    "        f\"{PROJ_ROOT}/imagenet/ILSVRC/Data/CLS-LOC/val\",\n",
    "        augment=False,\n",
    "        img_size=(512, 512),\n",
    "        batch_size=1,\n",
    "    )\n",
    "    .unbatch()\n",
    "    .take(2000)\n",
    "    .shuffle(buffer_size=500, seed=1)\n",
    "    .take(BATCH_SIZE*100)\n",
    "    .batch(1)\n",
    ")\n",
    "\n",
    "ds_valid = tf.data.Dataset.from_tensor_slices(tuple(map(np.concatenate, zip(*list(ds_valid))))).batch(BATCH_SIZE)"
   ]
  },
  {
   "cell_type": "code",
   "execution_count": null,
   "metadata": {},
   "outputs": [],
   "source": [
    "ds_monitor = ds_valid.take(1)\n",
    "ds_monitor"
   ]
  },
  {
   "cell_type": "code",
   "execution_count": null,
   "metadata": {},
   "outputs": [],
   "source": [
    "import matplotlib.pyplot as plt\n",
    "from skimage.io import imshow\n",
    "\n",
    "\n",
    "limit = 6\n",
    "f, axarrx = plt.subplots(1, limit, figsize=(limit*4, 4)) \n",
    "f, axarry = plt.subplots(1, limit, figsize=(limit*4, 4)) \n",
    "\n",
    "for i, (x, y) in enumerate(ds_monitor.unbatch().take(limit)):\n",
    "    axarrx[i].imshow(postprocess(x.numpy()))\n",
    "    axarry[i].imshow(postprocess(y.numpy()))"
   ]
  },
  {
   "cell_type": "code",
   "execution_count": null,
   "metadata": {},
   "outputs": [],
   "source": [
    "g = get_unet_generator()"
   ]
  },
  {
   "cell_type": "code",
   "execution_count": null,
   "metadata": {},
   "outputs": [],
   "source": [
    "optim = tf.keras.optimizers.Adam(learning_rate=0.0001)"
   ]
  },
  {
   "cell_type": "code",
   "execution_count": null,
   "metadata": {},
   "outputs": [],
   "source": [
    "g.compile(optimizer=optim, loss=\"mae\")"
   ]
  },
  {
   "cell_type": "code",
   "execution_count": null,
   "metadata": {},
   "outputs": [],
   "source": [
    "preds = g.predict(ds_monitor)"
   ]
  },
  {
   "cell_type": "code",
   "execution_count": null,
   "metadata": {},
   "outputs": [],
   "source": [
    "limit = 6\n",
    "f, axarr = plt.subplots(1, limit, figsize=(limit*4, 4))\n",
    "\n",
    "for i, pred in enumerate(preds[:limit]):\n",
    "    axarr[i].imshow(postprocess(pred))"
   ]
  },
  {
   "cell_type": "code",
   "execution_count": null,
   "metadata": {},
   "outputs": [],
   "source": [
    "model_name = \"baseline_v2\"\n",
    "model_path = f\"{PROJ_ROOT}/models/{model_name}\"\n",
    "\n",
    "model_checkpoint_callback = tf.keras.callbacks.ModelCheckpoint(\n",
    "    filepath=model_path,\n",
    "    monitor=\"val_loss\",\n",
    "    save_best_only=True,\n",
    "    save_freq=1000,\n",
    ")\n",
    "\n",
    "wandb_callback = WandbCallback()\n",
    "\n",
    "visualization_callback = LogPredictionsCallback(ds_monitor, every_n_batch=200)"
   ]
  },
  {
   "cell_type": "code",
   "execution_count": null,
   "metadata": {},
   "outputs": [],
   "source": [
    "history = g.fit(\n",
    "    ds_train,\n",
    "    epochs=10,\n",
    "    validation_data=ds_valid,\n",
    "    validation_freq=1,\n",
    "    verbose=1,\n",
    "    callbacks=[\n",
    "        model_checkpoint_callback,\n",
    "        wandb_callback,  \n",
    "        visualization_callback\n",
    "    ]\n",
    ")"
   ]
  },
  {
   "cell_type": "code",
   "execution_count": null,
   "metadata": {},
   "outputs": [],
   "source": [
    "g.save(f\"{model_path}_final\")"
   ]
  }
 ],
 "metadata": {
  "interpreter": {
   "hash": "594dfbd0b9cb9c3add7a8e61f08230f668f0badaff8f065b9dcedd0ea9929df9"
  },
  "kernelspec": {
   "display_name": "Python 3.9.12 ('pa228-ml-images')",
   "language": "python",
   "name": "python3"
  },
  "language_info": {
   "codemirror_mode": {
    "name": "ipython",
    "version": 3
   },
   "file_extension": ".py",
   "mimetype": "text/x-python",
   "name": "python",
   "nbconvert_exporter": "python",
   "pygments_lexer": "ipython3",
   "version": "3.9.12"
  },
  "orig_nbformat": 4
 },
 "nbformat": 4,
 "nbformat_minor": 2
}
