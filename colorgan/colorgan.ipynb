{
 "cells": [
  {
   "cell_type": "code",
   "execution_count": null,
   "metadata": {},
   "outputs": [],
   "source": [
    "import tensorflow as tf\n",
    "\n",
    "\n",
    "gpus = tf.config.list_physical_devices(\"GPU\")\n",
    "tf.config.set_visible_devices([\n",
    "    gpus[1],\n",
    "    gpus[2],\n",
    "], \"GPU\")\n",
    "gpus = tf.config.get_visible_devices(\"GPU\")\n",
    "gpus"
   ]
  },
  {
   "cell_type": "code",
   "execution_count": null,
   "metadata": {},
   "outputs": [],
   "source": [
    "print(f'Detected gpus: {gpus}')\n",
    "for gpu in gpus:\n",
    "    tf.config.experimental.set_memory_growth(gpu, True)\n",
    "print('Set dynamic GPU memory allocation.')"
   ]
  },
  {
   "cell_type": "code",
   "execution_count": null,
   "metadata": {},
   "outputs": [],
   "source": [
    "model_name_base = \"gan_v02\""
   ]
  },
  {
   "cell_type": "code",
   "execution_count": null,
   "metadata": {},
   "outputs": [],
   "source": [
    "import os\n",
    "os.environ[\"WANDB_NOTEBOOK_NAME\"] = \"colorgan.ipynb\"\n",
    "\n",
    "import wandb\n",
    "wandb.init(project=\"colorgan\", tags=[\"gan\"], name=model_name_base)"
   ]
  },
  {
   "cell_type": "code",
   "execution_count": null,
   "metadata": {},
   "outputs": [],
   "source": [
    "import numpy as np\n",
    "import pandas as pd\n",
    "\n",
    "import matplotlib.pyplot as plt\n",
    "\n",
    "from utils import PROJ_ROOT\n",
    "from callbacks import LogPredictionsCallback\n",
    "from models import get_unet_generator, get_discriminator, ColorGan\n",
    "from dataset import postprocess, folder_dataset\n",
    "\n",
    "from tensorflow.keras.optimizers import Adam\n",
    "from tensorflow.keras.losses import BinaryCrossentropy, Reduction\n",
    "from tensorflow.data.experimental import AutoShardPolicy\n",
    "\n",
    "from wandb.keras import WandbCallback"
   ]
  },
  {
   "cell_type": "code",
   "execution_count": null,
   "metadata": {},
   "outputs": [],
   "source": [
    "strategy = tf.distribute.MirroredStrategy()"
   ]
  },
  {
   "cell_type": "code",
   "execution_count": null,
   "metadata": {},
   "outputs": [],
   "source": [
    "BATCH_SIZE_LOCAL = 128\n",
    "BATCH_SIZE = BATCH_SIZE_LOCAL * strategy.num_replicas_in_sync\n",
    "PREFETCH = tf.data.AUTOTUNE\n",
    "\n",
    "options = tf.data.Options()\n",
    "options.experimental_distribute.auto_shard_policy = AutoShardPolicy.DATA\n",
    "\n",
    "ds_train = folder_dataset(\n",
    "    f\"{PROJ_ROOT}/imagenet/ILSVRC/Data/CLS-LOC/train\",\n",
    "    augment=True,\n",
    "    img_size=(512, 512),\n",
    "    batch_size=BATCH_SIZE,\n",
    "    prefetch=PREFETCH,\n",
    ")\n",
    "\n",
    "ds_monitor = (\n",
    "    folder_dataset(\n",
    "        f\"{PROJ_ROOT}/imagenet/ILSVRC/Data/CLS-LOC/val\",\n",
    "        augment=False,\n",
    "        img_size=(512, 512),\n",
    "        batch_size=1,\n",
    "    )\n",
    "    .unbatch()\n",
    "    .take(2000)\n",
    "    .shuffle(buffer_size=500, seed=1)\n",
    "    .take(128)\n",
    ").batch(BATCH_SIZE_LOCAL).cache().with_options(options)"
   ]
  },
  {
   "cell_type": "code",
   "execution_count": null,
   "metadata": {},
   "outputs": [],
   "source": [
    "with strategy.scope():\n",
    "    g = get_unet_generator()\n",
    "    d = get_discriminator()\n",
    "    gan = ColorGan(g, d)\n",
    "\n",
    "    end_loss_base = BinaryCrossentropy(label_smoothing=0.1, reduction=Reduction.NONE)\n",
    "    end_loss = lambda labels, preds: tf.reduce_sum(end_loss_base(labels, preds)) / BATCH_SIZE\n",
    "\n",
    "    gan.compile(\n",
    "        d_optimizer=Adam(2e-4, beta_1=0.5),\n",
    "        g_optimizer=Adam(2e-4, beta_1=0.5),\n",
    "        end_loss=end_loss,\n",
    "    )"
   ]
  },
  {
   "cell_type": "code",
   "execution_count": null,
   "metadata": {},
   "outputs": [],
   "source": [
    "model_name = model_name_base + \"_epoch{epoch:02d}\"\n",
    "model_path = f\"{PROJ_ROOT}/models/{model_name}\"\n",
    "\n",
    "model_checkpoint_callback = tf.keras.callbacks.ModelCheckpoint(\n",
    "    filepath=model_path,\n",
    "    save_freq=\"epoch\",\n",
    ")\n",
    "\n",
    "wandb_callback = WandbCallback()\n",
    "\n",
    "visualization_callback = LogPredictionsCallback(ds_monitor, every_n_batch=200)"
   ]
  },
  {
   "cell_type": "code",
   "execution_count": null,
   "metadata": {},
   "outputs": [],
   "source": [
    "with strategy.scope():\n",
    "    history = gan.fit(\n",
    "        ds_train,\n",
    "        epochs=10,\n",
    "        verbose=1,\n",
    "        callbacks=[\n",
    "            model_checkpoint_callback,\n",
    "            wandb_callback,\n",
    "            visualization_callback,\n",
    "        ]\n",
    "    )"
   ]
  },
  {
   "cell_type": "code",
   "execution_count": null,
   "metadata": {},
   "outputs": [],
   "source": [
    "history_dir = f'{PROJ_ROOT}/train_history/{model_name_base}'\n",
    "os.makedirs(history_dir)"
   ]
  },
  {
   "cell_type": "code",
   "execution_count": null,
   "metadata": {},
   "outputs": [],
   "source": [
    "import pickle\n",
    "with open(f\"{history_dir}/history.pkl\", 'wb') as file:\n",
    "    pickle.dump(history.history, file)"
   ]
  },
  {
   "cell_type": "code",
   "execution_count": null,
   "metadata": {},
   "outputs": [],
   "source": []
  }
 ],
 "metadata": {
  "interpreter": {
   "hash": "594dfbd0b9cb9c3add7a8e61f08230f668f0badaff8f065b9dcedd0ea9929df9"
  },
  "kernelspec": {
   "display_name": "Python 3.9.12 ('pa228-ml-images')",
   "language": "python",
   "name": "python3"
  },
  "language_info": {
   "codemirror_mode": {
    "name": "ipython",
    "version": 3
   },
   "file_extension": ".py",
   "mimetype": "text/x-python",
   "name": "python",
   "nbconvert_exporter": "python",
   "pygments_lexer": "ipython3",
   "version": "3.9.12"
  },
  "orig_nbformat": 4
 },
 "nbformat": 4,
 "nbformat_minor": 2
}
