{
 "cells": [
  {
   "cell_type": "code",
   "execution_count": null,
   "metadata": {},
   "outputs": [],
   "source": [
    "import tensorflow as tf\n",
    "\n",
    "\n",
    "gpus = tf.config.list_physical_devices(\"GPU\")\n",
    "tf.config.set_visible_devices([gpus[1]], \"GPU\")\n",
    "gpus = tf.config.get_visible_devices(\"GPU\")\n",
    "gpus"
   ]
  },
  {
   "cell_type": "code",
   "execution_count": null,
   "metadata": {},
   "outputs": [],
   "source": [
    "print(f'Detected gpus: {gpus}')\n",
    "for gpu in gpus:\n",
    "    tf.config.experimental.set_memory_growth(gpu, True)\n",
    "print('Set dynamic GPU memory allocation.')"
   ]
  },
  {
   "cell_type": "code",
   "execution_count": null,
   "metadata": {},
   "outputs": [],
   "source": [
    "model_name_base = \"gan_lab_v02\""
   ]
  },
  {
   "cell_type": "code",
   "execution_count": null,
   "metadata": {},
   "outputs": [],
   "source": [
    "import tempfile\n",
    "log_dir = f\"{tempfile.gettempdir()}/xkadlci2_wandb\"\n",
    "checkpoint_dir = f\"{tempfile.gettempdir()}/xkadlci2_checkpoints\"\n",
    "log_dir, checkpoint_dir"
   ]
  },
  {
   "cell_type": "code",
   "execution_count": null,
   "metadata": {},
   "outputs": [],
   "source": [
    "import os\n",
    "os.makedirs(log_dir)\n",
    "os.makedirs(checkpoint_dir)"
   ]
  },
  {
   "cell_type": "code",
   "execution_count": null,
   "metadata": {},
   "outputs": [],
   "source": [
    "os.environ[\"WANDB_NOTEBOOK_NAME\"] = \"colorgan_lab.ipynb\"\n",
    "\n",
    "import wandb\n",
    "wandb.init(project=\"colorgan\", tags=[\"gan_lab\"], name=model_name_base, dir=log_dir)"
   ]
  },
  {
   "cell_type": "code",
   "execution_count": null,
   "metadata": {},
   "outputs": [],
   "source": [
    "import numpy as np\n",
    "import pandas as pd\n",
    "\n",
    "import matplotlib.pyplot as plt\n",
    "\n",
    "from utils import PROJ_ROOT\n",
    "from callbacks import LogPredictionsCallback\n",
    "from models import get_unet_generator, get_discriminator, ColorGan\n",
    "from dataset import postprocess, postprocess_lab, folder_dataset\n",
    "\n",
    "from tensorflow.keras.optimizers import Adam\n",
    "from tensorflow.keras.losses import BinaryCrossentropy, Reduction\n",
    "# from tensorflow.data.experimental import AutoShardPolicy\n",
    "\n",
    "from wandb.keras import WandbCallback"
   ]
  },
  {
   "cell_type": "code",
   "execution_count": null,
   "metadata": {},
   "outputs": [],
   "source": [
    "#strategy = tf.distribute.MirroredStrategy()"
   ]
  },
  {
   "cell_type": "code",
   "execution_count": null,
   "metadata": {},
   "outputs": [],
   "source": [
    "BATCH_SIZE_LOCAL = 64\n",
    "BATCH_SIZE = BATCH_SIZE_LOCAL# * strategy.num_replicas_in_sync\n",
    "PREFETCH = tf.data.AUTOTUNE\n",
    "\n",
    "# options = tf.data.Options()\n",
    "# options.experimental_distribute.auto_shard_policy = AutoShardPolicy.DATA\n",
    "\n",
    "ds_train = folder_dataset(\n",
    "    f\"{PROJ_ROOT}/imagenet/ILSVRC/Data/CLS-LOC/train\",\n",
    "    augment=True,\n",
    "    img_size=(512, 512),\n",
    "    batch_size=BATCH_SIZE,\n",
    "    prefetch=PREFETCH,\n",
    "    use_lab=True,\n",
    ")\n",
    "\n",
    "\n",
    "ds_monitor = (\n",
    "    folder_dataset(\n",
    "        f\"{PROJ_ROOT}/imagenet/ILSVRC/Data/CLS-LOC/val\",\n",
    "        augment=False,\n",
    "        img_size=(512, 512),\n",
    "        batch_size=1,\n",
    "        use_lab=True,\n",
    "    )\n",
    "    .unbatch()\n",
    "    .take(2000)\n",
    "    .shuffle(buffer_size=500, seed=1)\n",
    "    .take(128)\n",
    ").batch(BATCH_SIZE_LOCAL).cache()#.with_options(options)"
   ]
  },
  {
   "cell_type": "code",
   "execution_count": null,
   "metadata": {},
   "outputs": [],
   "source": [
    "wandb.config.batch_size = BATCH_SIZE\n",
    "wandb.config.weight_mae_loss = 80\n",
    "wandb.config.lr_dicriminator = 1e-5\n",
    "wandb.config.lr_generator = 2e-4\n",
    "wandb.config.label_smoothing = 0.2\n",
    "wandb.config.log_loss_every_n_batch = 10\n",
    "wandb.config.log_vis_every_n_batch = 200\n",
    "wandb.config.param_hist_every_n_batch = 50\n",
    "wandb.config.epochs = 5"
   ]
  },
  {
   "cell_type": "code",
   "execution_count": null,
   "metadata": {},
   "outputs": [],
   "source": [
    "# with strategy.scope():\n",
    "g = get_unet_generator(use_lab=True)\n",
    "d = get_discriminator(use_lab=True)\n",
    "gan = ColorGan(g, d, weight_mae_loss=wandb.config.weight_mae_loss)\n",
    "\n",
    "#end_loss_base = BinaryCrossentropy(label_smoothing=0.1, reduction=Reduction.NONE)\n",
    "#end_loss = lambda labels, preds: tf.reduce_sum(end_loss_base(labels, preds)) / BATCH_SIZE\n",
    "\n",
    "gan.compile(\n",
    "    d_optimizer=Adam(wandb.config.lr_dicriminator, beta_1=0.5),\n",
    "    g_optimizer=Adam(wandb.config.lr_generator, beta_1=0.5),\n",
    "    end_loss=BinaryCrossentropy(label_smoothing=wandb.config.label_smoothing, from_logits=True),\n",
    ")"
   ]
  },
  {
   "cell_type": "code",
   "execution_count": null,
   "metadata": {},
   "outputs": [],
   "source": [
    "model_name = model_name_base + \"_epoch{epoch:02d}\"\n",
    "model_path = f\"{checkpoint_dir}/{model_name}\"\n",
    "\n",
    "model_checkpoint_callback = tf.keras.callbacks.ModelCheckpoint(\n",
    "    filepath=model_path,\n",
    "    save_freq=\"epoch\",\n",
    ")\n",
    "\n",
    "wandb_callback = WandbCallback()\n",
    "\n",
    "visualization_callback = LogPredictionsCallback(\n",
    "    ds_monitor,\n",
    "    vis_every_n_batch=wandb.config.log_vis_every_n_batch,\n",
    "    loss_every_n_batch=wandb.config.log_loss_every_n_batch,\n",
    "    param_hist_every_n_batch=wandb.config.param_hist_every_n_batch,\n",
    "    use_lab=True,\n",
    ")"
   ]
  },
  {
   "cell_type": "code",
   "execution_count": null,
   "metadata": {},
   "outputs": [],
   "source": [
    "#with strategy.scope():\n",
    "history = gan.fit(\n",
    "    ds_train,\n",
    "    epochs=wandb.config.epochs,\n",
    "    verbose=1,\n",
    "    callbacks=[\n",
    "        model_checkpoint_callback,\n",
    "        wandb_callback,\n",
    "        visualization_callback,\n",
    "    ]\n",
    ")"
   ]
  },
  {
   "cell_type": "code",
   "execution_count": null,
   "metadata": {},
   "outputs": [],
   "source": []
  }
 ],
 "metadata": {
  "interpreter": {
   "hash": "f01eb7279006aaee2e2418f59a3b5141c90e8f6513e429c7c590d381dcc6eac1"
  },
  "kernelspec": {
   "display_name": "Python 3.9.12 ('pa228-ml-images')",
   "language": "python",
   "name": "python3"
  },
  "language_info": {
   "codemirror_mode": {
    "name": "ipython",
    "version": 3
   },
   "file_extension": ".py",
   "mimetype": "text/x-python",
   "name": "python",
   "nbconvert_exporter": "python",
   "pygments_lexer": "ipython3",
   "version": "3.9.12"
  },
  "orig_nbformat": 4
 },
 "nbformat": 4,
 "nbformat_minor": 2
}
